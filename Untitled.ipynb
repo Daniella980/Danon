{
 "cells": [
  {
   "cell_type": "code",
   "execution_count": 1,
   "metadata": {},
   "outputs": [],
   "source": [
    "import pandas as pd\n",
    "from statistics import mean, mode, median\n",
    "import numpy as np\n",
    "import seaborn as sns"
   ]
  },
  {
   "cell_type": "code",
   "execution_count": 2,
   "metadata": {},
   "outputs": [],
   "source": [
    "data = pd.read_csv('Data.csv')"
   ]
  },
  {
   "cell_type": "code",
   "execution_count": 3,
   "metadata": {},
   "outputs": [
    {
     "data": {
      "text/plain": [
       "standard_type\n",
       "IC50    172\n",
       "dtype: int64"
      ]
     },
     "execution_count": 3,
     "metadata": {},
     "output_type": "execute_result"
    }
   ],
   "source": [
    "data.pivot_table(index = ['standard_type'], aggfunc='size')"
   ]
  },
  {
   "cell_type": "code",
   "execution_count": 4,
   "metadata": {},
   "outputs": [],
   "source": [
    "data = data.query(\"standard_type == 'IC50'\")"
   ]
  },
  {
   "cell_type": "code",
   "execution_count": 5,
   "metadata": {},
   "outputs": [
    {
     "data": {
      "text/html": [
       "<div>\n",
       "<style scoped>\n",
       "    .dataframe tbody tr th:only-of-type {\n",
       "        vertical-align: middle;\n",
       "    }\n",
       "\n",
       "    .dataframe tbody tr th {\n",
       "        vertical-align: top;\n",
       "    }\n",
       "\n",
       "    .dataframe thead th {\n",
       "        text-align: right;\n",
       "    }\n",
       "</style>\n",
       "<table border=\"1\" class=\"dataframe\">\n",
       "  <thead>\n",
       "    <tr style=\"text-align: right;\">\n",
       "      <th></th>\n",
       "      <th>molecule_chembl_id</th>\n",
       "      <th>Smiles</th>\n",
       "      <th>standard_type</th>\n",
       "      <th>standard_value</th>\n",
       "      <th>standard_units</th>\n",
       "      <th>assay_type</th>\n",
       "      <th>assay_organism</th>\n",
       "      <th>target_organism</th>\n",
       "    </tr>\n",
       "  </thead>\n",
       "  <tbody>\n",
       "    <tr>\n",
       "      <th>0</th>\n",
       "      <td>CHEMBL200215</td>\n",
       "      <td>COc1ccc(C(=O)Nc2ccc(CNc3ccc(-c4nc5ccccc5[nH]4)...</td>\n",
       "      <td>IC50</td>\n",
       "      <td>230.0</td>\n",
       "      <td>nM</td>\n",
       "      <td>B</td>\n",
       "      <td>Homo sapiens</td>\n",
       "      <td>Homo sapiens</td>\n",
       "    </tr>\n",
       "    <tr>\n",
       "      <th>1</th>\n",
       "      <td>CHEMBL199576</td>\n",
       "      <td>CCCOc1ccc(C(=O)Nc2ccc(-c3nc4ccccc4[nH]3)cc2)cc1Br</td>\n",
       "      <td>IC50</td>\n",
       "      <td>2200.0</td>\n",
       "      <td>nM</td>\n",
       "      <td>B</td>\n",
       "      <td>Homo sapiens</td>\n",
       "      <td>Homo sapiens</td>\n",
       "    </tr>\n",
       "    <tr>\n",
       "      <th>2</th>\n",
       "      <td>CHEMBL194140</td>\n",
       "      <td>COc1ccc(NC(=O)/C=C/c2ccc(-c3nc4cc(CC(=O)O)ccc4...</td>\n",
       "      <td>IC50</td>\n",
       "      <td>3000.0</td>\n",
       "      <td>nM</td>\n",
       "      <td>B</td>\n",
       "      <td>Homo sapiens</td>\n",
       "      <td>Homo sapiens</td>\n",
       "    </tr>\n",
       "    <tr>\n",
       "      <th>3</th>\n",
       "      <td>CHEMBL194231</td>\n",
       "      <td>O=C(O)Cc1ccc2oc(-c3ccc(/C=C/C(=O)Nc4ccc(Br)cc4...</td>\n",
       "      <td>IC50</td>\n",
       "      <td>400.0</td>\n",
       "      <td>nM</td>\n",
       "      <td>B</td>\n",
       "      <td>Homo sapiens</td>\n",
       "      <td>Homo sapiens</td>\n",
       "    </tr>\n",
       "    <tr>\n",
       "      <th>4</th>\n",
       "      <td>CHEMBL196338</td>\n",
       "      <td>COc1ccc(NC(=O)/C=C/c2ccc(-c3nc4cc(CC(=O)O)ccc4...</td>\n",
       "      <td>IC50</td>\n",
       "      <td>450.0</td>\n",
       "      <td>nM</td>\n",
       "      <td>B</td>\n",
       "      <td>Homo sapiens</td>\n",
       "      <td>Homo sapiens</td>\n",
       "    </tr>\n",
       "  </tbody>\n",
       "</table>\n",
       "</div>"
      ],
      "text/plain": [
       "  molecule_chembl_id                                             Smiles  \\\n",
       "0       CHEMBL200215  COc1ccc(C(=O)Nc2ccc(CNc3ccc(-c4nc5ccccc5[nH]4)...   \n",
       "1       CHEMBL199576  CCCOc1ccc(C(=O)Nc2ccc(-c3nc4ccccc4[nH]3)cc2)cc1Br   \n",
       "2       CHEMBL194140  COc1ccc(NC(=O)/C=C/c2ccc(-c3nc4cc(CC(=O)O)ccc4...   \n",
       "3       CHEMBL194231  O=C(O)Cc1ccc2oc(-c3ccc(/C=C/C(=O)Nc4ccc(Br)cc4...   \n",
       "4       CHEMBL196338  COc1ccc(NC(=O)/C=C/c2ccc(-c3nc4cc(CC(=O)O)ccc4...   \n",
       "\n",
       "  standard_type  standard_value standard_units assay_type assay_organism  \\\n",
       "0          IC50           230.0             nM          B   Homo sapiens   \n",
       "1          IC50          2200.0             nM          B   Homo sapiens   \n",
       "2          IC50          3000.0             nM          B   Homo sapiens   \n",
       "3          IC50           400.0             nM          B   Homo sapiens   \n",
       "4          IC50           450.0             nM          B   Homo sapiens   \n",
       "\n",
       "  target_organism  \n",
       "0    Homo sapiens  \n",
       "1    Homo sapiens  \n",
       "2    Homo sapiens  \n",
       "3    Homo sapiens  \n",
       "4    Homo sapiens  "
      ]
     },
     "execution_count": 5,
     "metadata": {},
     "output_type": "execute_result"
    }
   ],
   "source": [
    "data.head()"
   ]
  },
  {
   "cell_type": "code",
   "execution_count": 6,
   "metadata": {},
   "outputs": [],
   "source": [
    "def statDescribe (data):\n",
    "    data_min = min(data)\n",
    "    data_max = max(data)\n",
    "    data_mean = round(mean(data), 2)\n",
    "    data_mode = mode(data)\n",
    "    data_median = median(data)\n",
    "    print('Минимальное значение: {0} \\nМаксимальное значение: {1} \\nСреднее значение: {2} \\nМода: {3} \\nМедиана: {4}'\\\n",
    "          .format(data_min, data_max, data_mean, data_mode, data_median))"
   ]
  },
  {
   "cell_type": "code",
   "execution_count": 7,
   "metadata": {},
   "outputs": [
    {
     "name": "stdout",
     "output_type": "stream",
     "text": [
      "Минимальное значение: 5.0 \n",
      "Максимальное значение: 100000.0 \n",
      "Среднее значение: 5861.05 \n",
      "Мода: 10000.0 \n",
      "Медиана: 2250.0\n"
     ]
    }
   ],
   "source": [
    "statDescribe(data['standard_value'])"
   ]
  },
  {
   "cell_type": "code",
   "execution_count": 8,
   "metadata": {},
   "outputs": [],
   "source": [
    "def calcPic50(st_values):\n",
    "    for i in range(0, len(st_values)):\n",
    "        st_values[i] = st_values[i]*10**-9\n",
    "        st_values[i] = round(-np.log10(st_values[i]), 3)\n",
    "    return st_values"
   ]
  },
  {
   "cell_type": "code",
   "execution_count": 9,
   "metadata": {},
   "outputs": [],
   "source": [
    "st_val = list(data['standard_value'])"
   ]
  },
  {
   "cell_type": "code",
   "execution_count": 10,
   "metadata": {},
   "outputs": [],
   "source": [
    "pic50_vals = calcPic50(st_val)"
   ]
  },
  {
   "cell_type": "code",
   "execution_count": 11,
   "metadata": {
    "scrolled": true
   },
   "outputs": [
    {
     "data": {
      "image/png": "[encoded data removed]",
      "text/plain": [
       "<Figure size 432x288 with 1 Axes>"
      ]
     },
     "metadata": {
      "needs_background": "light"
     },
     "output_type": "display_data"
    }
   ],
   "source": [
    "plot = sns.distplot(pic50_vals)"
   ]
  },
  {
   "cell_type": "code",
   "execution_count": 12,
   "metadata": {},
   "outputs": [
    {
     "name": "stdout",
     "output_type": "stream",
     "text": [
      "Минимальное значение: 4.0 \n",
      "Максимальное значение: 8.301 \n",
      "Среднее значение: 5.69 \n",
      "Мода: 5.0 \n",
      "Медиана: 5.648\n"
     ]
    }
   ],
   "source": [
    "statDescribe(pic50_vals)"
   ]
  },
  {
   "cell_type": "code",
   "execution_count": 13,
   "metadata": {},
   "outputs": [],
   "source": [
    "data['pIC50'] = pic50_vals"
   ]
  },
  {
   "cell_type": "code",
   "execution_count": 14,
   "metadata": {},
   "outputs": [
    {
     "data": {
      "text/html": [
       "<div>\n",
       "<style scoped>\n",
       "    .dataframe tbody tr th:only-of-type {\n",
       "        vertical-align: middle;\n",
       "    }\n",
       "\n",
       "    .dataframe tbody tr th {\n",
       "        vertical-align: top;\n",
       "    }\n",
       "\n",
       "    .dataframe thead th {\n",
       "        text-align: right;\n",
       "    }\n",
       "</style>\n",
       "<table border=\"1\" class=\"dataframe\">\n",
       "  <thead>\n",
       "    <tr style=\"text-align: right;\">\n",
       "      <th></th>\n",
       "      <th>molecule_chembl_id</th>\n",
       "      <th>Smiles</th>\n",
       "      <th>standard_type</th>\n",
       "      <th>standard_value</th>\n",
       "      <th>standard_units</th>\n",
       "      <th>assay_type</th>\n",
       "      <th>assay_organism</th>\n",
       "      <th>target_organism</th>\n",
       "      <th>pIC50</th>\n",
       "    </tr>\n",
       "  </thead>\n",
       "  <tbody>\n",
       "    <tr>\n",
       "      <th>0</th>\n",
       "      <td>CHEMBL200215</td>\n",
       "      <td>COc1ccc(C(=O)Nc2ccc(CNc3ccc(-c4nc5ccccc5[nH]4)...</td>\n",
       "      <td>IC50</td>\n",
       "      <td>230.0</td>\n",
       "      <td>nM</td>\n",
       "      <td>B</td>\n",
       "      <td>Homo sapiens</td>\n",
       "      <td>Homo sapiens</td>\n",
       "      <td>6.638</td>\n",
       "    </tr>\n",
       "    <tr>\n",
       "      <th>1</th>\n",
       "      <td>CHEMBL199576</td>\n",
       "      <td>CCCOc1ccc(C(=O)Nc2ccc(-c3nc4ccccc4[nH]3)cc2)cc1Br</td>\n",
       "      <td>IC50</td>\n",
       "      <td>2200.0</td>\n",
       "      <td>nM</td>\n",
       "      <td>B</td>\n",
       "      <td>Homo sapiens</td>\n",
       "      <td>Homo sapiens</td>\n",
       "      <td>5.658</td>\n",
       "    </tr>\n",
       "    <tr>\n",
       "      <th>2</th>\n",
       "      <td>CHEMBL194140</td>\n",
       "      <td>COc1ccc(NC(=O)/C=C/c2ccc(-c3nc4cc(CC(=O)O)ccc4...</td>\n",
       "      <td>IC50</td>\n",
       "      <td>3000.0</td>\n",
       "      <td>nM</td>\n",
       "      <td>B</td>\n",
       "      <td>Homo sapiens</td>\n",
       "      <td>Homo sapiens</td>\n",
       "      <td>5.523</td>\n",
       "    </tr>\n",
       "    <tr>\n",
       "      <th>3</th>\n",
       "      <td>CHEMBL194231</td>\n",
       "      <td>O=C(O)Cc1ccc2oc(-c3ccc(/C=C/C(=O)Nc4ccc(Br)cc4...</td>\n",
       "      <td>IC50</td>\n",
       "      <td>400.0</td>\n",
       "      <td>nM</td>\n",
       "      <td>B</td>\n",
       "      <td>Homo sapiens</td>\n",
       "      <td>Homo sapiens</td>\n",
       "      <td>6.398</td>\n",
       "    </tr>\n",
       "    <tr>\n",
       "      <th>4</th>\n",
       "      <td>CHEMBL196338</td>\n",
       "      <td>COc1ccc(NC(=O)/C=C/c2ccc(-c3nc4cc(CC(=O)O)ccc4...</td>\n",
       "      <td>IC50</td>\n",
       "      <td>450.0</td>\n",
       "      <td>nM</td>\n",
       "      <td>B</td>\n",
       "      <td>Homo sapiens</td>\n",
       "      <td>Homo sapiens</td>\n",
       "      <td>6.347</td>\n",
       "    </tr>\n",
       "  </tbody>\n",
       "</table>\n",
       "</div>"
      ],
      "text/plain": [
       "  molecule_chembl_id                                             Smiles  \\\n",
       "0       CHEMBL200215  COc1ccc(C(=O)Nc2ccc(CNc3ccc(-c4nc5ccccc5[nH]4)...   \n",
       "1       CHEMBL199576  CCCOc1ccc(C(=O)Nc2ccc(-c3nc4ccccc4[nH]3)cc2)cc1Br   \n",
       "2       CHEMBL194140  COc1ccc(NC(=O)/C=C/c2ccc(-c3nc4cc(CC(=O)O)ccc4...   \n",
       "3       CHEMBL194231  O=C(O)Cc1ccc2oc(-c3ccc(/C=C/C(=O)Nc4ccc(Br)cc4...   \n",
       "4       CHEMBL196338  COc1ccc(NC(=O)/C=C/c2ccc(-c3nc4cc(CC(=O)O)ccc4...   \n",
       "\n",
       "  standard_type  standard_value standard_units assay_type assay_organism  \\\n",
       "0          IC50           230.0             nM          B   Homo sapiens   \n",
       "1          IC50          2200.0             nM          B   Homo sapiens   \n",
       "2          IC50          3000.0             nM          B   Homo sapiens   \n",
       "3          IC50           400.0             nM          B   Homo sapiens   \n",
       "4          IC50           450.0             nM          B   Homo sapiens   \n",
       "\n",
       "  target_organism  pIC50  \n",
       "0    Homo sapiens  6.638  \n",
       "1    Homo sapiens  5.658  \n",
       "2    Homo sapiens  5.523  \n",
       "3    Homo sapiens  6.398  \n",
       "4    Homo sapiens  6.347  "
      ]
     },
     "execution_count": 14,
     "metadata": {},
     "output_type": "execute_result"
    }
   ],
   "source": [
    "data.head()"
   ]
  },
  {
   "cell_type": "code",
   "execution_count": 15,
   "metadata": {},
   "outputs": [],
   "source": [
    "data = data.query(\"pIC50 >= 6.0\")"
   ]
  },
  {
   "cell_type": "code",
   "execution_count": 16,
   "metadata": {},
   "outputs": [
    {
     "data": {
      "text/html": [
       "<div>\n",
       "<style scoped>\n",
       "    .dataframe tbody tr th:only-of-type {\n",
       "        vertical-align: middle;\n",
       "    }\n",
       "\n",
       "    .dataframe tbody tr th {\n",
       "        vertical-align: top;\n",
       "    }\n",
       "\n",
       "    .dataframe thead th {\n",
       "        text-align: right;\n",
       "    }\n",
       "</style>\n",
       "<table border=\"1\" class=\"dataframe\">\n",
       "  <thead>\n",
       "    <tr style=\"text-align: right;\">\n",
       "      <th></th>\n",
       "      <th>molecule_chembl_id</th>\n",
       "      <th>Smiles</th>\n",
       "      <th>standard_type</th>\n",
       "      <th>standard_value</th>\n",
       "      <th>standard_units</th>\n",
       "      <th>assay_type</th>\n",
       "      <th>assay_organism</th>\n",
       "      <th>target_organism</th>\n",
       "      <th>pIC50</th>\n",
       "    </tr>\n",
       "  </thead>\n",
       "  <tbody>\n",
       "    <tr>\n",
       "      <th>0</th>\n",
       "      <td>CHEMBL200215</td>\n",
       "      <td>COc1ccc(C(=O)Nc2ccc(CNc3ccc(-c4nc5ccccc5[nH]4)...</td>\n",
       "      <td>IC50</td>\n",
       "      <td>230.0</td>\n",
       "      <td>nM</td>\n",
       "      <td>B</td>\n",
       "      <td>Homo sapiens</td>\n",
       "      <td>Homo sapiens</td>\n",
       "      <td>6.638</td>\n",
       "    </tr>\n",
       "    <tr>\n",
       "      <th>3</th>\n",
       "      <td>CHEMBL194231</td>\n",
       "      <td>O=C(O)Cc1ccc2oc(-c3ccc(/C=C/C(=O)Nc4ccc(Br)cc4...</td>\n",
       "      <td>IC50</td>\n",
       "      <td>400.0</td>\n",
       "      <td>nM</td>\n",
       "      <td>B</td>\n",
       "      <td>Homo sapiens</td>\n",
       "      <td>Homo sapiens</td>\n",
       "      <td>6.398</td>\n",
       "    </tr>\n",
       "    <tr>\n",
       "      <th>4</th>\n",
       "      <td>CHEMBL196338</td>\n",
       "      <td>COc1ccc(NC(=O)/C=C/c2ccc(-c3nc4cc(CC(=O)O)ccc4...</td>\n",
       "      <td>IC50</td>\n",
       "      <td>450.0</td>\n",
       "      <td>nM</td>\n",
       "      <td>B</td>\n",
       "      <td>Homo sapiens</td>\n",
       "      <td>Homo sapiens</td>\n",
       "      <td>6.347</td>\n",
       "    </tr>\n",
       "    <tr>\n",
       "      <th>5</th>\n",
       "      <td>CHEMBL196336</td>\n",
       "      <td>O=C(O)Cc1nc(-c2ccc(-c3ccc(NC(=O)/C=C/c4ccc(OC(...</td>\n",
       "      <td>IC50</td>\n",
       "      <td>600.0</td>\n",
       "      <td>nM</td>\n",
       "      <td>B</td>\n",
       "      <td>Homo sapiens</td>\n",
       "      <td>Homo sapiens</td>\n",
       "      <td>6.222</td>\n",
       "    </tr>\n",
       "    <tr>\n",
       "      <th>6</th>\n",
       "      <td>CHEMBL196826</td>\n",
       "      <td>O=C(O)Cc1ccc2oc(-c3ccc(NC(=O)/C=C/c4cccc(Br)c4...</td>\n",
       "      <td>IC50</td>\n",
       "      <td>750.0</td>\n",
       "      <td>nM</td>\n",
       "      <td>B</td>\n",
       "      <td>Homo sapiens</td>\n",
       "      <td>Homo sapiens</td>\n",
       "      <td>6.125</td>\n",
       "    </tr>\n",
       "  </tbody>\n",
       "</table>\n",
       "</div>"
      ],
      "text/plain": [
       "  molecule_chembl_id                                             Smiles  \\\n",
       "0       CHEMBL200215  COc1ccc(C(=O)Nc2ccc(CNc3ccc(-c4nc5ccccc5[nH]4)...   \n",
       "3       CHEMBL194231  O=C(O)Cc1ccc2oc(-c3ccc(/C=C/C(=O)Nc4ccc(Br)cc4...   \n",
       "4       CHEMBL196338  COc1ccc(NC(=O)/C=C/c2ccc(-c3nc4cc(CC(=O)O)ccc4...   \n",
       "5       CHEMBL196336  O=C(O)Cc1nc(-c2ccc(-c3ccc(NC(=O)/C=C/c4ccc(OC(...   \n",
       "6       CHEMBL196826  O=C(O)Cc1ccc2oc(-c3ccc(NC(=O)/C=C/c4cccc(Br)c4...   \n",
       "\n",
       "  standard_type  standard_value standard_units assay_type assay_organism  \\\n",
       "0          IC50           230.0             nM          B   Homo sapiens   \n",
       "3          IC50           400.0             nM          B   Homo sapiens   \n",
       "4          IC50           450.0             nM          B   Homo sapiens   \n",
       "5          IC50           600.0             nM          B   Homo sapiens   \n",
       "6          IC50           750.0             nM          B   Homo sapiens   \n",
       "\n",
       "  target_organism  pIC50  \n",
       "0    Homo sapiens  6.638  \n",
       "3    Homo sapiens  6.398  \n",
       "4    Homo sapiens  6.347  \n",
       "5    Homo sapiens  6.222  \n",
       "6    Homo sapiens  6.125  "
      ]
     },
     "execution_count": 16,
     "metadata": {},
     "output_type": "execute_result"
    }
   ],
   "source": [
    "data.head()"
   ]
  },
  {
   "cell_type": "code",
   "execution_count": 17,
   "metadata": {},
   "outputs": [],
   "source": [
    "data.to_csv('Data_ML.csv', index=False)"
   ]
  },
  {
   "cell_type": "code",
   "execution_count": 18,
   "metadata": {},
   "outputs": [],
   "source": [
    "from rdkit import Chem\n",
    "from rdkit.Chem import AllChem, Draw, Descriptors\n",
    "from rdkit.Chem.Descriptors import rdMolDescriptors"
   ]
  },
  {
   "cell_type": "code",
   "execution_count": 19,
   "metadata": {},
   "outputs": [
    {
     "data": {
      "text/plain": [
       "'COc1ccc(C(=O)Nc2ccc(CNc3ccc(-c4nc5ccccc5[nH]4)cc3)cc2)cc1Br'"
      ]
     },
     "execution_count": 19,
     "metadata": {},
     "output_type": "execute_result"
    }
   ],
   "source": [
    "smile = data['Smiles'][0]\n",
    "smile"
   ]
  },
  {
   "cell_type": "code",
   "execution_count": 20,
   "metadata": {},
   "outputs": [
    {
     "data": {
      "image/png": "[encoded data removed]",
      "text/plain": [
       "<rdkit.Chem.rdchem.Mol at 0x224a3d7c710>"
      ]
     },
     "execution_count": 20,
     "metadata": {},
     "output_type": "execute_result"
    }
   ],
   "source": [
    "mol = Chem.MolFromSmiles(smile)\n",
    "mol"
   ]
  },
  {
   "cell_type": "code",
   "execution_count": 21,
   "metadata": {},
   "outputs": [
    {
     "data": {
      "text/plain": [
       "rdkit.Chem.rdchem.Mol"
      ]
     },
     "execution_count": 21,
     "metadata": {},
     "output_type": "execute_result"
    }
   ],
   "source": [
    "type(mol)"
   ]
  },
  {
   "cell_type": "code",
   "execution_count": 22,
   "metadata": {},
   "outputs": [
    {
     "data": {
      "image/png": "[encoded data removed]",
      "text/plain": [
       "<rdkit.Chem.rdchem.Mol at 0x224a414f440>"
      ]
     },
     "execution_count": 22,
     "metadata": {},
     "output_type": "execute_result"
    }
   ],
   "source": [
    "mol  = Chem.AddHs(mol)\n",
    "mol"
   ]
  },
  {
   "cell_type": "code",
   "execution_count": 23,
   "metadata": {},
   "outputs": [
    {
     "name": "stdout",
     "output_type": "stream",
     "text": [
      "\n",
      "     RDKit          2D\n",
      "\n",
      " 58 62  0  0  0  0  0  0  0  0999 V2000\n",
      "   17.4608    7.4972    0.0000 C   0  0  0  0  0  0  0  0  0  0  0  0\n",
      "   16.4571    8.6120    0.0000 O   0  0  0  0  0  0  0  0  0  0  0  0\n",
      "   14.9899    8.3001    0.0000 C   0  0  0  0  0  0  0  0  0  0  0  0\n",
      "   14.5263    6.8735    0.0000 C   0  0  0  0  0  0  0  0  0  0  0  0\n",
      "   13.0591    6.5616    0.0000 C   0  0  0  0  0  0  0  0  0  0  0  0\n",
      "   12.0554    7.6764    0.0000 C   0  0  0  0  0  0  0  0  0  0  0  0\n",
      "   10.5882    7.3645    0.0000 C   0  0  0  0  0  0  0  0  0  0  0  0\n",
      "   10.1247    5.9379    0.0000 O   0  0  0  0  0  0  0  0  0  0  0  0\n",
      "    9.5845    8.4792    0.0000 N   0  0  0  0  0  0  0  0  0  0  0  0\n",
      "    8.1173    8.1673    0.0000 C   0  0  0  0  0  0  0  0  0  0  0  0\n",
      "    7.1136    9.2821    0.0000 C   0  0  0  0  0  0  0  0  0  0  0  0\n",
      "    5.6464    8.9702    0.0000 C   0  0  0  0  0  0  0  0  0  0  0  0\n",
      "    5.1828    7.5436    0.0000 C   0  0  0  0  0  0  0  0  0  0  0  0\n",
      "    3.7156    7.2317    0.0000 C   0  0  0  0  0  0  0  0  0  0  0  0\n",
      "    2.2484    6.9199    0.0000 N   0  0  0  0  0  0  0  0  0  0  0  0\n",
      "    1.7849    5.4933    0.0000 C   0  0  0  0  0  0  0  0  0  0  0  0\n",
      "    0.3177    5.1814    0.0000 C   0  0  0  0  0  0  0  0  0  0  0  0\n",
      "   -0.1459    3.7548    0.0000 C   0  0  0  0  0  0  0  0  0  0  0  0\n",
      "    0.8578    2.6401    0.0000 C   0  0  0  0  0  0  0  0  0  0  0  0\n",
      "    0.3943    1.2135    0.0000 C   0  0  0  0  0  0  0  0  0  0  0  0\n",
      "    1.2760    0.0000    0.0000 N   0  0  0  0  0  0  0  0  0  0  0  0\n",
      "    0.3943   -1.2135    0.0000 C   0  0  0  0  0  0  0  0  0  0  0  0\n",
      "    0.7062   -2.6807    0.0000 C   0  0  0  0  0  0  0  0  0  0  0  0\n",
      "   -0.4086   -3.6844    0.0000 C   0  0  0  0  0  0  0  0  0  0  0  0\n",
      "   -1.8351   -3.2209    0.0000 C   0  0  0  0  0  0  0  0  0  0  0  0\n",
      "   -2.1470   -1.7537    0.0000 C   0  0  0  0  0  0  0  0  0  0  0  0\n",
      "   -1.0323   -0.7500    0.0000 C   0  0  0  0  0  0  0  0  0  0  0  0\n",
      "   -1.0323    0.7500    0.0000 N   0  0  0  0  0  0  0  0  0  0  0  0\n",
      "    2.3250    2.9520    0.0000 C   0  0  0  0  0  0  0  0  0  0  0  0\n",
      "    2.7886    4.3786    0.0000 C   0  0  0  0  0  0  0  0  0  0  0  0\n",
      "    6.1865    6.4289    0.0000 C   0  0  0  0  0  0  0  0  0  0  0  0\n",
      "    7.6538    6.7407    0.0000 C   0  0  0  0  0  0  0  0  0  0  0  0\n",
      "   12.5190    9.1029    0.0000 C   0  0  0  0  0  0  0  0  0  0  0  0\n",
      "   13.9862    9.4148    0.0000 C   0  0  0  0  0  0  0  0  0  0  0  0\n",
      "   14.4497   10.8414    0.0000 Br  0  0  0  0  0  0  0  0  0  0  0  0\n",
      "   18.4645    6.3825    0.0000 H   0  0  0  0  0  0  0  0  0  0  0  0\n",
      "   18.5755    8.5009    0.0000 H   0  0  0  0  0  0  0  0  0  0  0  0\n",
      "   16.3461    6.4935    0.0000 H   0  0  0  0  0  0  0  0  0  0  0  0\n",
      "   15.5300    5.7588    0.0000 H   0  0  0  0  0  0  0  0  0  0  0  0\n",
      "   12.5956    5.1351    0.0000 H   0  0  0  0  0  0  0  0  0  0  0  0\n",
      "   10.0480    9.9058    0.0000 H   0  0  0  0  0  0  0  0  0  0  0  0\n",
      "    7.5771   10.7086    0.0000 H   0  0  0  0  0  0  0  0  0  0  0  0\n",
      "    4.6427   10.0849    0.0000 H   0  0  0  0  0  0  0  0  0  0  0  0\n",
      "    4.0275    5.7645    0.0000 H   0  0  0  0  0  0  0  0  0  0  0  0\n",
      "    3.4038    8.6990    0.0000 H   0  0  0  0  0  0  0  0  0  0  0  0\n",
      "    1.2447    8.0346    0.0000 H   0  0  0  0  0  0  0  0  0  0  0  0\n",
      "   -0.6860    6.2961    0.0000 H   0  0  0  0  0  0  0  0  0  0  0  0\n",
      "   -1.6131    3.4430    0.0000 H   0  0  0  0  0  0  0  0  0  0  0  0\n",
      "    2.1328   -3.1443    0.0000 H   0  0  0  0  0  0  0  0  0  0  0  0\n",
      "   -0.0967   -5.1517    0.0000 H   0  0  0  0  0  0  0  0  0  0  0  0\n",
      "   -2.9499   -4.2246    0.0000 H   0  0  0  0  0  0  0  0  0  0  0  0\n",
      "   -3.5736   -1.2902    0.0000 H   0  0  0  0  0  0  0  0  0  0  0  0\n",
      "   -2.2458    1.6317    0.0000 H   0  0  0  0  0  0  0  0  0  0  0  0\n",
      "    3.3287    1.8373    0.0000 H   0  0  0  0  0  0  0  0  0  0  0  0\n",
      "    4.2558    4.6904    0.0000 H   0  0  0  0  0  0  0  0  0  0  0  0\n",
      "    5.7230    5.0023    0.0000 H   0  0  0  0  0  0  0  0  0  0  0  0\n",
      "    8.6575    5.6260    0.0000 H   0  0  0  0  0  0  0  0  0  0  0  0\n",
      "   11.5153   10.2177    0.0000 H   0  0  0  0  0  0  0  0  0  0  0  0\n",
      "  1  2  1  0\n",
      "  2  3  1  0\n",
      "  3  4  2  0\n",
      "  4  5  1  0\n",
      "  5  6  2  0\n",
      "  6  7  1  0\n",
      "  7  8  2  0\n",
      "  7  9  1  0\n",
      "  9 10  1  0\n",
      " 10 11  2  0\n",
      " 11 12  1  0\n",
      " 12 13  2  0\n",
      " 13 14  1  0\n",
      " 14 15  1  0\n",
      " 15 16  1  0\n",
      " 16 17  2  0\n",
      " 17 18  1  0\n",
      " 18 19  2  0\n",
      " 19 20  1  0\n",
      " 20 21  2  0\n",
      " 21 22  1  0\n",
      " 22 23  2  0\n",
      " 23 24  1  0\n",
      " 24 25  2  0\n",
      " 25 26  1  0\n",
      " 26 27  2  0\n",
      " 27 28  1  0\n",
      " 19 29  1  0\n",
      " 29 30  2  0\n",
      " 13 31  1  0\n",
      " 31 32  2  0\n",
      "  6 33  1  0\n",
      " 33 34  2  0\n",
      " 34 35  1  0\n",
      " 34  3  1  0\n",
      " 32 10  1  0\n",
      " 30 16  1  0\n",
      " 28 20  1  0\n",
      " 27 22  1  0\n",
      "  1 36  1  0\n",
      "  1 37  1  0\n",
      "  1 38  1  0\n",
      "  4 39  1  0\n",
      "  5 40  1  0\n",
      "  9 41  1  0\n",
      " 11 42  1  0\n",
      " 12 43  1  0\n",
      " 14 44  1  0\n",
      " 14 45  1  0\n",
      " 15 46  1  0\n",
      " 17 47  1  0\n",
      " 18 48  1  0\n",
      " 23 49  1  0\n",
      " 24 50  1  0\n",
      " 25 51  1  0\n",
      " 26 52  1  0\n",
      " 28 53  1  0\n",
      " 29 54  1  0\n",
      " 30 55  1  0\n",
      " 31 56  1  0\n",
      " 32 57  1  0\n",
      " 33 58  1  0\n",
      "M  END\n",
      "\n"
     ]
    }
   ],
   "source": [
    "print(Chem.MolToMolBlock(mol))"
   ]
  },
  {
   "cell_type": "code",
   "execution_count": 24,
   "metadata": {},
   "outputs": [
    {
     "data": {
      "image/png": "[encoded data removed]",
      "text/plain": [
       "<rdkit.Chem.rdchem.Mol at 0x224a414f440>"
      ]
     },
     "execution_count": 24,
     "metadata": {},
     "output_type": "execute_result"
    }
   ],
   "source": [
    "AllChem.EmbedMolecule(mol)\n",
    "mol"
   ]
  },
  {
   "cell_type": "code",
   "execution_count": 25,
   "metadata": {},
   "outputs": [],
   "source": [
    "def describe_mol(mol):\n",
    "    mw = round(Descriptors.MolWt(mol), 3)\n",
    "    logP = round(Descriptors.MolLogP(mol), 3)\n",
    "    des_obj = rdMolDescriptors.GetMACCSKeysFingerprint(mol)\n",
    "    des = des_obj.ToBitString()\n",
    "    print(f'Молекулярная масса: {mw} \\nLogP: {logP} \\nMACCSKeys: {des}')"
   ]
  },
  {
   "cell_type": "code",
   "execution_count": 26,
   "metadata": {},
   "outputs": [
    {
     "name": "stdout",
     "output_type": "stream",
     "text": [
      "Молекулярная масса: 527.422 \n",
      "LogP: 6.865 \n",
      "MACCSKeys: 00000000000000000000000000000000000000100000001000000000000000100100000000010101001100010000110010001100010100101100010011100111000101110110001111001011111111111111110\n"
     ]
    }
   ],
   "source": [
    "describe_mol(mol)"
   ]
  },
  {
   "cell_type": "code",
   "execution_count": null,
   "metadata": {},
   "outputs": [],
   "source": []
  }
 ],
 "metadata": {
  "kernelspec": {
   "display_name": "Python 3",
   "language": "python",
   "name": "python3"
  },
  "language_info": {
   "codemirror_mode": {
    "name": "ipython",
    "version": 3
   },
   "file_extension": ".py",
   "mimetype": "text/x-python",
   "name": "python",
   "nbconvert_exporter": "python",
   "pygments_lexer": "ipython3",
   "version": "3.8.3"
  }
 },
 "nbformat": 4,
 "nbformat_minor": 4
}
