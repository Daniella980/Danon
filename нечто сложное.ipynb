{
 "cells": [
  {
   "cell_type": "code",
   "execution_count": 177,
   "metadata": {},
   "outputs": [],
   "source": [
    "import pandas as pd\n",
    "from statistics import mean, mode, median\n",
    "import numpy as np\n",
    "import seaborn as sns"
   ]
  },
  {
   "cell_type": "code",
   "execution_count": 178,
   "metadata": {},
   "outputs": [],
   "source": [
    "data = pd.read_csv('Data.csv')"
   ]
  },
  {
   "cell_type": "code",
   "execution_count": 179,
   "metadata": {},
   "outputs": [
    {
     "data": {
      "text/plain": [
       "standard_type\n",
       "IC50    172\n",
       "dtype: int64"
      ]
     },
     "execution_count": 179,
     "metadata": {},
     "output_type": "execute_result"
    }
   ],
   "source": [
    "data.pivot_table(index = ['standard_type'], aggfunc='size')"
   ]
  },
  {
   "cell_type": "code",
   "execution_count": 180,
   "metadata": {},
   "outputs": [],
   "source": [
    "data = data.query(\"standard_type == 'IC50'\")"
   ]
  },
  {
   "cell_type": "code",
   "execution_count": 181,
   "metadata": {},
   "outputs": [
    {
     "data": {
      "text/html": [
       "<div>\n",
       "<style scoped>\n",
       "    .dataframe tbody tr th:only-of-type {\n",
       "        vertical-align: middle;\n",
       "    }\n",
       "\n",
       "    .dataframe tbody tr th {\n",
       "        vertical-align: top;\n",
       "    }\n",
       "\n",
       "    .dataframe thead th {\n",
       "        text-align: right;\n",
       "    }\n",
       "</style>\n",
       "<table border=\"1\" class=\"dataframe\">\n",
       "  <thead>\n",
       "    <tr style=\"text-align: right;\">\n",
       "      <th></th>\n",
       "      <th>molecule_chembl_id</th>\n",
       "      <th>Smiles</th>\n",
       "      <th>standard_type</th>\n",
       "      <th>standard_value</th>\n",
       "      <th>standard_units</th>\n",
       "      <th>assay_type</th>\n",
       "      <th>assay_organism</th>\n",
       "      <th>target_organism</th>\n",
       "    </tr>\n",
       "  </thead>\n",
       "  <tbody>\n",
       "    <tr>\n",
       "      <th>0</th>\n",
       "      <td>CHEMBL200215</td>\n",
       "      <td>COc1ccc(C(=O)Nc2ccc(CNc3ccc(-c4nc5ccccc5[nH]4)...</td>\n",
       "      <td>IC50</td>\n",
       "      <td>230.0</td>\n",
       "      <td>nM</td>\n",
       "      <td>B</td>\n",
       "      <td>Homo sapiens</td>\n",
       "      <td>Homo sapiens</td>\n",
       "    </tr>\n",
       "    <tr>\n",
       "      <th>1</th>\n",
       "      <td>CHEMBL199576</td>\n",
       "      <td>CCCOc1ccc(C(=O)Nc2ccc(-c3nc4ccccc4[nH]3)cc2)cc1Br</td>\n",
       "      <td>IC50</td>\n",
       "      <td>2200.0</td>\n",
       "      <td>nM</td>\n",
       "      <td>B</td>\n",
       "      <td>Homo sapiens</td>\n",
       "      <td>Homo sapiens</td>\n",
       "    </tr>\n",
       "    <tr>\n",
       "      <th>2</th>\n",
       "      <td>CHEMBL194140</td>\n",
       "      <td>COc1ccc(NC(=O)/C=C/c2ccc(-c3nc4cc(CC(=O)O)ccc4...</td>\n",
       "      <td>IC50</td>\n",
       "      <td>3000.0</td>\n",
       "      <td>nM</td>\n",
       "      <td>B</td>\n",
       "      <td>Homo sapiens</td>\n",
       "      <td>Homo sapiens</td>\n",
       "    </tr>\n",
       "    <tr>\n",
       "      <th>3</th>\n",
       "      <td>CHEMBL194231</td>\n",
       "      <td>O=C(O)Cc1ccc2oc(-c3ccc(/C=C/C(=O)Nc4ccc(Br)cc4...</td>\n",
       "      <td>IC50</td>\n",
       "      <td>400.0</td>\n",
       "      <td>nM</td>\n",
       "      <td>B</td>\n",
       "      <td>Homo sapiens</td>\n",
       "      <td>Homo sapiens</td>\n",
       "    </tr>\n",
       "    <tr>\n",
       "      <th>4</th>\n",
       "      <td>CHEMBL196338</td>\n",
       "      <td>COc1ccc(NC(=O)/C=C/c2ccc(-c3nc4cc(CC(=O)O)ccc4...</td>\n",
       "      <td>IC50</td>\n",
       "      <td>450.0</td>\n",
       "      <td>nM</td>\n",
       "      <td>B</td>\n",
       "      <td>Homo sapiens</td>\n",
       "      <td>Homo sapiens</td>\n",
       "    </tr>\n",
       "  </tbody>\n",
       "</table>\n",
       "</div>"
      ],
      "text/plain": [
       "  molecule_chembl_id                                             Smiles  \\\n",
       "0       CHEMBL200215  COc1ccc(C(=O)Nc2ccc(CNc3ccc(-c4nc5ccccc5[nH]4)...   \n",
       "1       CHEMBL199576  CCCOc1ccc(C(=O)Nc2ccc(-c3nc4ccccc4[nH]3)cc2)cc1Br   \n",
       "2       CHEMBL194140  COc1ccc(NC(=O)/C=C/c2ccc(-c3nc4cc(CC(=O)O)ccc4...   \n",
       "3       CHEMBL194231  O=C(O)Cc1ccc2oc(-c3ccc(/C=C/C(=O)Nc4ccc(Br)cc4...   \n",
       "4       CHEMBL196338  COc1ccc(NC(=O)/C=C/c2ccc(-c3nc4cc(CC(=O)O)ccc4...   \n",
       "\n",
       "  standard_type  standard_value standard_units assay_type assay_organism  \\\n",
       "0          IC50           230.0             nM          B   Homo sapiens   \n",
       "1          IC50          2200.0             nM          B   Homo sapiens   \n",
       "2          IC50          3000.0             nM          B   Homo sapiens   \n",
       "3          IC50           400.0             nM          B   Homo sapiens   \n",
       "4          IC50           450.0             nM          B   Homo sapiens   \n",
       "\n",
       "  target_organism  \n",
       "0    Homo sapiens  \n",
       "1    Homo sapiens  \n",
       "2    Homo sapiens  \n",
       "3    Homo sapiens  \n",
       "4    Homo sapiens  "
      ]
     },
     "execution_count": 181,
     "metadata": {},
     "output_type": "execute_result"
    }
   ],
   "source": [
    "data.head()"
   ]
  },
  {
   "cell_type": "code",
   "execution_count": 182,
   "metadata": {},
   "outputs": [],
   "source": [
    "def calcPic50(st_values):\n",
    "    for i in range(0, len(st_values)):\n",
    "        st_values[i] = st_values[i]*10**-9\n",
    "        st_values[i] = round(-np.log10(st_values[i]), 3)\n",
    "    return st_values"
   ]
  },
  {
   "cell_type": "code",
   "execution_count": 183,
   "metadata": {},
   "outputs": [],
   "source": [
    "st_val = list(data['standard_value'])"
   ]
  },
  {
   "cell_type": "code",
   "execution_count": 184,
   "metadata": {},
   "outputs": [],
   "source": [
    "pic50_vals = calcPic50(st_val)"
   ]
  },
  {
   "cell_type": "code",
   "execution_count": 185,
   "metadata": {},
   "outputs": [],
   "source": [
    "data['pIC50'] = pic50_vals"
   ]
  },
  {
   "cell_type": "code",
   "execution_count": 186,
   "metadata": {},
   "outputs": [
    {
     "data": {
      "text/html": [
       "<div>\n",
       "<style scoped>\n",
       "    .dataframe tbody tr th:only-of-type {\n",
       "        vertical-align: middle;\n",
       "    }\n",
       "\n",
       "    .dataframe tbody tr th {\n",
       "        vertical-align: top;\n",
       "    }\n",
       "\n",
       "    .dataframe thead th {\n",
       "        text-align: right;\n",
       "    }\n",
       "</style>\n",
       "<table border=\"1\" class=\"dataframe\">\n",
       "  <thead>\n",
       "    <tr style=\"text-align: right;\">\n",
       "      <th></th>\n",
       "      <th>molecule_chembl_id</th>\n",
       "      <th>Smiles</th>\n",
       "      <th>standard_type</th>\n",
       "      <th>standard_value</th>\n",
       "      <th>standard_units</th>\n",
       "      <th>assay_type</th>\n",
       "      <th>assay_organism</th>\n",
       "      <th>target_organism</th>\n",
       "      <th>pIC50</th>\n",
       "    </tr>\n",
       "  </thead>\n",
       "  <tbody>\n",
       "    <tr>\n",
       "      <th>0</th>\n",
       "      <td>CHEMBL200215</td>\n",
       "      <td>COc1ccc(C(=O)Nc2ccc(CNc3ccc(-c4nc5ccccc5[nH]4)...</td>\n",
       "      <td>IC50</td>\n",
       "      <td>230.0</td>\n",
       "      <td>nM</td>\n",
       "      <td>B</td>\n",
       "      <td>Homo sapiens</td>\n",
       "      <td>Homo sapiens</td>\n",
       "      <td>6.638</td>\n",
       "    </tr>\n",
       "    <tr>\n",
       "      <th>1</th>\n",
       "      <td>CHEMBL199576</td>\n",
       "      <td>CCCOc1ccc(C(=O)Nc2ccc(-c3nc4ccccc4[nH]3)cc2)cc1Br</td>\n",
       "      <td>IC50</td>\n",
       "      <td>2200.0</td>\n",
       "      <td>nM</td>\n",
       "      <td>B</td>\n",
       "      <td>Homo sapiens</td>\n",
       "      <td>Homo sapiens</td>\n",
       "      <td>5.658</td>\n",
       "    </tr>\n",
       "    <tr>\n",
       "      <th>2</th>\n",
       "      <td>CHEMBL194140</td>\n",
       "      <td>COc1ccc(NC(=O)/C=C/c2ccc(-c3nc4cc(CC(=O)O)ccc4...</td>\n",
       "      <td>IC50</td>\n",
       "      <td>3000.0</td>\n",
       "      <td>nM</td>\n",
       "      <td>B</td>\n",
       "      <td>Homo sapiens</td>\n",
       "      <td>Homo sapiens</td>\n",
       "      <td>5.523</td>\n",
       "    </tr>\n",
       "    <tr>\n",
       "      <th>3</th>\n",
       "      <td>CHEMBL194231</td>\n",
       "      <td>O=C(O)Cc1ccc2oc(-c3ccc(/C=C/C(=O)Nc4ccc(Br)cc4...</td>\n",
       "      <td>IC50</td>\n",
       "      <td>400.0</td>\n",
       "      <td>nM</td>\n",
       "      <td>B</td>\n",
       "      <td>Homo sapiens</td>\n",
       "      <td>Homo sapiens</td>\n",
       "      <td>6.398</td>\n",
       "    </tr>\n",
       "    <tr>\n",
       "      <th>4</th>\n",
       "      <td>CHEMBL196338</td>\n",
       "      <td>COc1ccc(NC(=O)/C=C/c2ccc(-c3nc4cc(CC(=O)O)ccc4...</td>\n",
       "      <td>IC50</td>\n",
       "      <td>450.0</td>\n",
       "      <td>nM</td>\n",
       "      <td>B</td>\n",
       "      <td>Homo sapiens</td>\n",
       "      <td>Homo sapiens</td>\n",
       "      <td>6.347</td>\n",
       "    </tr>\n",
       "  </tbody>\n",
       "</table>\n",
       "</div>"
      ],
      "text/plain": [
       "  molecule_chembl_id                                             Smiles  \\\n",
       "0       CHEMBL200215  COc1ccc(C(=O)Nc2ccc(CNc3ccc(-c4nc5ccccc5[nH]4)...   \n",
       "1       CHEMBL199576  CCCOc1ccc(C(=O)Nc2ccc(-c3nc4ccccc4[nH]3)cc2)cc1Br   \n",
       "2       CHEMBL194140  COc1ccc(NC(=O)/C=C/c2ccc(-c3nc4cc(CC(=O)O)ccc4...   \n",
       "3       CHEMBL194231  O=C(O)Cc1ccc2oc(-c3ccc(/C=C/C(=O)Nc4ccc(Br)cc4...   \n",
       "4       CHEMBL196338  COc1ccc(NC(=O)/C=C/c2ccc(-c3nc4cc(CC(=O)O)ccc4...   \n",
       "\n",
       "  standard_type  standard_value standard_units assay_type assay_organism  \\\n",
       "0          IC50           230.0             nM          B   Homo sapiens   \n",
       "1          IC50          2200.0             nM          B   Homo sapiens   \n",
       "2          IC50          3000.0             nM          B   Homo sapiens   \n",
       "3          IC50           400.0             nM          B   Homo sapiens   \n",
       "4          IC50           450.0             nM          B   Homo sapiens   \n",
       "\n",
       "  target_organism  pIC50  \n",
       "0    Homo sapiens  6.638  \n",
       "1    Homo sapiens  5.658  \n",
       "2    Homo sapiens  5.523  \n",
       "3    Homo sapiens  6.398  \n",
       "4    Homo sapiens  6.347  "
      ]
     },
     "execution_count": 186,
     "metadata": {},
     "output_type": "execute_result"
    }
   ],
   "source": [
    "data.head()"
   ]
  },
  {
   "cell_type": "code",
   "execution_count": 187,
   "metadata": {},
   "outputs": [],
   "source": [
    "data_dropped = data.drop(['standard_type', 'standard_value', 'standard_units', 'assay_type', 'assay_organism', 'target_organism'], axis=1)"
   ]
  },
  {
   "cell_type": "code",
   "execution_count": 188,
   "metadata": {},
   "outputs": [
    {
     "data": {
      "text/html": [
       "<div>\n",
       "<style scoped>\n",
       "    .dataframe tbody tr th:only-of-type {\n",
       "        vertical-align: middle;\n",
       "    }\n",
       "\n",
       "    .dataframe tbody tr th {\n",
       "        vertical-align: top;\n",
       "    }\n",
       "\n",
       "    .dataframe thead th {\n",
       "        text-align: right;\n",
       "    }\n",
       "</style>\n",
       "<table border=\"1\" class=\"dataframe\">\n",
       "  <thead>\n",
       "    <tr style=\"text-align: right;\">\n",
       "      <th></th>\n",
       "      <th>molecule_chembl_id</th>\n",
       "      <th>Smiles</th>\n",
       "      <th>pIC50</th>\n",
       "    </tr>\n",
       "  </thead>\n",
       "  <tbody>\n",
       "    <tr>\n",
       "      <th>0</th>\n",
       "      <td>CHEMBL200215</td>\n",
       "      <td>COc1ccc(C(=O)Nc2ccc(CNc3ccc(-c4nc5ccccc5[nH]4)...</td>\n",
       "      <td>6.638</td>\n",
       "    </tr>\n",
       "    <tr>\n",
       "      <th>1</th>\n",
       "      <td>CHEMBL199576</td>\n",
       "      <td>CCCOc1ccc(C(=O)Nc2ccc(-c3nc4ccccc4[nH]3)cc2)cc1Br</td>\n",
       "      <td>5.658</td>\n",
       "    </tr>\n",
       "    <tr>\n",
       "      <th>2</th>\n",
       "      <td>CHEMBL194140</td>\n",
       "      <td>COc1ccc(NC(=O)/C=C/c2ccc(-c3nc4cc(CC(=O)O)ccc4...</td>\n",
       "      <td>5.523</td>\n",
       "    </tr>\n",
       "    <tr>\n",
       "      <th>3</th>\n",
       "      <td>CHEMBL194231</td>\n",
       "      <td>O=C(O)Cc1ccc2oc(-c3ccc(/C=C/C(=O)Nc4ccc(Br)cc4...</td>\n",
       "      <td>6.398</td>\n",
       "    </tr>\n",
       "    <tr>\n",
       "      <th>4</th>\n",
       "      <td>CHEMBL196338</td>\n",
       "      <td>COc1ccc(NC(=O)/C=C/c2ccc(-c3nc4cc(CC(=O)O)ccc4...</td>\n",
       "      <td>6.347</td>\n",
       "    </tr>\n",
       "  </tbody>\n",
       "</table>\n",
       "</div>"
      ],
      "text/plain": [
       "  molecule_chembl_id                                             Smiles  pIC50\n",
       "0       CHEMBL200215  COc1ccc(C(=O)Nc2ccc(CNc3ccc(-c4nc5ccccc5[nH]4)...  6.638\n",
       "1       CHEMBL199576  CCCOc1ccc(C(=O)Nc2ccc(-c3nc4ccccc4[nH]3)cc2)cc1Br  5.658\n",
       "2       CHEMBL194140  COc1ccc(NC(=O)/C=C/c2ccc(-c3nc4cc(CC(=O)O)ccc4...  5.523\n",
       "3       CHEMBL194231  O=C(O)Cc1ccc2oc(-c3ccc(/C=C/C(=O)Nc4ccc(Br)cc4...  6.398\n",
       "4       CHEMBL196338  COc1ccc(NC(=O)/C=C/c2ccc(-c3nc4cc(CC(=O)O)ccc4...  6.347"
      ]
     },
     "execution_count": 188,
     "metadata": {},
     "output_type": "execute_result"
    }
   ],
   "source": [
    "data_dropped.head()"
   ]
  },
  {
   "cell_type": "code",
   "execution_count": 189,
   "metadata": {},
   "outputs": [],
   "source": [
    "from rdkit import Chem\n",
    "from rdkit.Chem import AllChem, Draw, Descriptors\n",
    "from rdkit.Chem.Descriptors import rdMolDescriptors"
   ]
  },
  {
   "cell_type": "code",
   "execution_count": 190,
   "metadata": {},
   "outputs": [
    {
     "data": {
      "text/plain": [
       "0      COc1ccc(C(=O)Nc2ccc(CNc3ccc(-c4nc5ccccc5[nH]4)...\n",
       "1      CCCOc1ccc(C(=O)Nc2ccc(-c3nc4ccccc4[nH]3)cc2)cc1Br\n",
       "2      COc1ccc(NC(=O)/C=C/c2ccc(-c3nc4cc(CC(=O)O)ccc4...\n",
       "3      O=C(O)Cc1ccc2oc(-c3ccc(/C=C/C(=O)Nc4ccc(Br)cc4...\n",
       "4      COc1ccc(NC(=O)/C=C/c2ccc(-c3nc4cc(CC(=O)O)ccc4...\n",
       "                             ...                        \n",
       "167    O=C(O)Cc1ccc2oc(-c3cccc(NC(=O)Nc4cccc(-c5nc6cc...\n",
       "168    CC(NC(=O)Cc1ccc2oc(-c3ccc(NC(=O)Nc4ccc(-c5nc6c...\n",
       "169    O=C(O)CNC(=O)Cc1ccc2oc(-c3ccc(NC(=O)Nc4ccc(-c5...\n",
       "170    O=C(O)Cc1ccc2oc(-c3ccc(NC(=S)Nc4ccc(-c5nc6cc(C...\n",
       "171    CC(=O)N[C@H]1[C@@H](O[C@@H]2C(C(=O)O)O[C@@H](O...\n",
       "Name: Smiles, Length: 172, dtype: object"
      ]
     },
     "execution_count": 190,
     "metadata": {},
     "output_type": "execute_result"
    }
   ],
   "source": [
    "smile = data['Smiles'][0:172]\n",
    "smile"
   ]
  },
  {
   "cell_type": "code",
   "execution_count": 191,
   "metadata": {},
   "outputs": [],
   "source": [
    "data_dropped.loc [data_dropped['pIC50'] >= 6.0, 'pIC50'] = 'active'"
   ]
  },
  {
   "cell_type": "code",
   "execution_count": 192,
   "metadata": {},
   "outputs": [
    {
     "data": {
      "text/html": [
       "<div>\n",
       "<style scoped>\n",
       "    .dataframe tbody tr th:only-of-type {\n",
       "        vertical-align: middle;\n",
       "    }\n",
       "\n",
       "    .dataframe tbody tr th {\n",
       "        vertical-align: top;\n",
       "    }\n",
       "\n",
       "    .dataframe thead th {\n",
       "        text-align: right;\n",
       "    }\n",
       "</style>\n",
       "<table border=\"1\" class=\"dataframe\">\n",
       "  <thead>\n",
       "    <tr style=\"text-align: right;\">\n",
       "      <th></th>\n",
       "      <th>molecule_chembl_id</th>\n",
       "      <th>Smiles</th>\n",
       "      <th>pIC50</th>\n",
       "    </tr>\n",
       "  </thead>\n",
       "  <tbody>\n",
       "    <tr>\n",
       "      <th>0</th>\n",
       "      <td>CHEMBL200215</td>\n",
       "      <td>COc1ccc(C(=O)Nc2ccc(CNc3ccc(-c4nc5ccccc5[nH]4)...</td>\n",
       "      <td>active</td>\n",
       "    </tr>\n",
       "    <tr>\n",
       "      <th>1</th>\n",
       "      <td>CHEMBL199576</td>\n",
       "      <td>CCCOc1ccc(C(=O)Nc2ccc(-c3nc4ccccc4[nH]3)cc2)cc1Br</td>\n",
       "      <td>5.658</td>\n",
       "    </tr>\n",
       "    <tr>\n",
       "      <th>2</th>\n",
       "      <td>CHEMBL194140</td>\n",
       "      <td>COc1ccc(NC(=O)/C=C/c2ccc(-c3nc4cc(CC(=O)O)ccc4...</td>\n",
       "      <td>5.523</td>\n",
       "    </tr>\n",
       "    <tr>\n",
       "      <th>3</th>\n",
       "      <td>CHEMBL194231</td>\n",
       "      <td>O=C(O)Cc1ccc2oc(-c3ccc(/C=C/C(=O)Nc4ccc(Br)cc4...</td>\n",
       "      <td>active</td>\n",
       "    </tr>\n",
       "    <tr>\n",
       "      <th>4</th>\n",
       "      <td>CHEMBL196338</td>\n",
       "      <td>COc1ccc(NC(=O)/C=C/c2ccc(-c3nc4cc(CC(=O)O)ccc4...</td>\n",
       "      <td>active</td>\n",
       "    </tr>\n",
       "    <tr>\n",
       "      <th>...</th>\n",
       "      <td>...</td>\n",
       "      <td>...</td>\n",
       "      <td>...</td>\n",
       "    </tr>\n",
       "    <tr>\n",
       "      <th>167</th>\n",
       "      <td>CHEMBL4293844</td>\n",
       "      <td>O=C(O)Cc1ccc2oc(-c3cccc(NC(=O)Nc4cccc(-c5nc6cc...</td>\n",
       "      <td>5</td>\n",
       "    </tr>\n",
       "    <tr>\n",
       "      <th>168</th>\n",
       "      <td>CHEMBL4290499</td>\n",
       "      <td>CC(NC(=O)Cc1ccc2oc(-c3ccc(NC(=O)Nc4ccc(-c5nc6c...</td>\n",
       "      <td>active</td>\n",
       "    </tr>\n",
       "    <tr>\n",
       "      <th>169</th>\n",
       "      <td>CHEMBL4283311</td>\n",
       "      <td>O=C(O)CNC(=O)Cc1ccc2oc(-c3ccc(NC(=O)Nc4ccc(-c5...</td>\n",
       "      <td>active</td>\n",
       "    </tr>\n",
       "    <tr>\n",
       "      <th>170</th>\n",
       "      <td>CHEMBL4287084</td>\n",
       "      <td>O=C(O)Cc1ccc2oc(-c3ccc(NC(=S)Nc4ccc(-c5nc6cc(C...</td>\n",
       "      <td>5.742</td>\n",
       "    </tr>\n",
       "    <tr>\n",
       "      <th>171</th>\n",
       "      <td>CHEMBL4280766</td>\n",
       "      <td>CC(=O)N[C@H]1[C@@H](O[C@@H]2C(C(=O)O)O[C@@H](O...</td>\n",
       "      <td>active</td>\n",
       "    </tr>\n",
       "  </tbody>\n",
       "</table>\n",
       "<p>172 rows × 3 columns</p>\n",
       "</div>"
      ],
      "text/plain": [
       "    molecule_chembl_id                                             Smiles  \\\n",
       "0         CHEMBL200215  COc1ccc(C(=O)Nc2ccc(CNc3ccc(-c4nc5ccccc5[nH]4)...   \n",
       "1         CHEMBL199576  CCCOc1ccc(C(=O)Nc2ccc(-c3nc4ccccc4[nH]3)cc2)cc1Br   \n",
       "2         CHEMBL194140  COc1ccc(NC(=O)/C=C/c2ccc(-c3nc4cc(CC(=O)O)ccc4...   \n",
       "3         CHEMBL194231  O=C(O)Cc1ccc2oc(-c3ccc(/C=C/C(=O)Nc4ccc(Br)cc4...   \n",
       "4         CHEMBL196338  COc1ccc(NC(=O)/C=C/c2ccc(-c3nc4cc(CC(=O)O)ccc4...   \n",
       "..                 ...                                                ...   \n",
       "167      CHEMBL4293844  O=C(O)Cc1ccc2oc(-c3cccc(NC(=O)Nc4cccc(-c5nc6cc...   \n",
       "168      CHEMBL4290499  CC(NC(=O)Cc1ccc2oc(-c3ccc(NC(=O)Nc4ccc(-c5nc6c...   \n",
       "169      CHEMBL4283311  O=C(O)CNC(=O)Cc1ccc2oc(-c3ccc(NC(=O)Nc4ccc(-c5...   \n",
       "170      CHEMBL4287084  O=C(O)Cc1ccc2oc(-c3ccc(NC(=S)Nc4ccc(-c5nc6cc(C...   \n",
       "171      CHEMBL4280766  CC(=O)N[C@H]1[C@@H](O[C@@H]2C(C(=O)O)O[C@@H](O...   \n",
       "\n",
       "      pIC50  \n",
       "0    active  \n",
       "1     5.658  \n",
       "2     5.523  \n",
       "3    active  \n",
       "4    active  \n",
       "..      ...  \n",
       "167       5  \n",
       "168  active  \n",
       "169  active  \n",
       "170   5.742  \n",
       "171  active  \n",
       "\n",
       "[172 rows x 3 columns]"
      ]
     },
     "execution_count": 192,
     "metadata": {},
     "output_type": "execute_result"
    }
   ],
   "source": [
    "data_dropped"
   ]
  },
  {
   "cell_type": "code",
   "execution_count": 197,
   "metadata": {},
   "outputs": [
    {
     "data": {
      "text/plain": [
       "'CCCOc1ccc(C(=O)Nc2ccc(-c3nc4ccccc4[nH]3)cc2)cc1Br'"
      ]
     },
     "execution_count": 197,
     "metadata": {},
     "output_type": "execute_result"
    }
   ],
   "source": [
    "smile_1 = data['Smiles'][1]\n",
    "smile_1"
   ]
  },
  {
   "cell_type": "code",
   "execution_count": 200,
   "metadata": {},
   "outputs": [
    {
     "data": {
      "image/png": "[encoded data removed]",
      "text/plain": [
       "<rdkit.Chem.rdchem.Mol at 0x1a0158e3d50>"
      ]
     },
     "execution_count": 200,
     "metadata": {},
     "output_type": "execute_result"
    }
   ],
   "source": [
    "mol_1 = Chem.MolFromSmiles(smile_1)\n",
    "mol_1"
   ]
  },
  {
   "cell_type": "code",
   "execution_count": 201,
   "metadata": {},
   "outputs": [],
   "source": [
    "def describe_mol(mol_1):\n",
    "    des_obj = rdMolDescriptors.GetMACCSKeysFingerprint(mol_1)\n",
    "    des = des_obj.ToBitString()\n",
    "    print(f'nMACCSKeys: {des}', sep= ';')"
   ]
  },
  {
   "cell_type": "code",
   "execution_count": 207,
   "metadata": {},
   "outputs": [
    {
     "name": "stdout",
     "output_type": "stream",
     "text": [
      "nMACCSKeys: 00000000000000000000000000000000000000100000001000000000000000100100000000000101000100010000100010000100010101100111011011000111000111110100001111010011111111111111110\n"
     ]
    }
   ],
   "source": [
    "describe_mol(mol_1)"
   ]
  },
  {
   "cell_type": "code",
   "execution_count": 208,
   "metadata": {},
   "outputs": [
    {
     "name": "stdout",
     "output_type": "stream",
     "text": [
      "nMACCSKeys: 00000000000000000000000000000000000000100000001000000000000000100100000000000101000100010000100010000100010101100111011011000111000111110100001111010011111111111111110\n"
     ]
    }
   ],
   "source": [
    "mol_11=describe_mol(mol_1)"
   ]
  },
  {
   "cell_type": "code",
   "execution_count": null,
   "metadata": {},
   "outputs": [],
   "source": []
  }
 ],
 "metadata": {
  "kernelspec": {
   "display_name": "Python 3",
   "language": "python",
   "name": "python3"
  },
  "language_info": {
   "codemirror_mode": {
    "name": "ipython",
    "version": 3
   },
   "file_extension": ".py",
   "mimetype": "text/x-python",
   "name": "python",
   "nbconvert_exporter": "python",
   "pygments_lexer": "ipython3",
   "version": "3.8.3"
  }
 },
 "nbformat": 4,
 "nbformat_minor": 4
}
